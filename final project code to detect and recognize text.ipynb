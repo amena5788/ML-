{
  "nbformat": 4,
  "nbformat_minor": 0,
  "metadata": {
    "colab": {
      "name": "Untitled1.ipynb",
      "provenance": [],
      "collapsed_sections": []
    },
    "kernelspec": {
      "name": "python3",
      "display_name": "Python 3"
    }
  },
  "cells": [
    {
      "cell_type": "code",
      "metadata": {
        "id": "_UX6REUtF6hA",
        "colab_type": "code",
        "colab": {}
      },
      "source": [
        "!sudo apt install tesseract-ocr\n",
        "!pip install pytesseract"
      ],
      "execution_count": 0,
      "outputs": []
    },
    {
      "cell_type": "code",
      "metadata": {
        "id": "ETv6lqkeIwP_",
        "colab_type": "code",
        "colab": {
          "base_uri": "https://localhost:8080/",
          "height": 315
        },
        "outputId": "481bfdcf-2cc1-47b0-f23f-1f1bf074abb4"
      },
      "source": [
        "from imutils.object_detection import non_max_suppression\n",
        "import numpy as np\n",
        "import time\n",
        "import cv2\n",
        "from google.colab.patches import cv2_imshow\n",
        "\n",
        "#Loading the Input Image & Dimensions of Image\n",
        "\n",
        "image = cv2.imread('/content/coming.jpg') #Location of the IMG File\n",
        "orig = image.copy()\n",
        "(H, W) = image.shape[:2]\n",
        "\n",
        "# set the new width and height and then determine the ratio in change\n",
        "# for both the width and height\n",
        "\n",
        "(newW, newH) = (640, 320)\n",
        "rW = W / float(newW)\n",
        "rH = H / float(newH)\n",
        "\n",
        "# Resizing & Grabbing Dimensions of Image\n",
        "\n",
        "image = cv2.resize(image, (newW, newH))\n",
        "(H, W) = image.shape[:2]\n",
        "\n",
        "#Layer1=Probabilistic Layer2=Coordinates for Drawn Boxes\n",
        "\n",
        "layerNames = [\n",
        "    \"feature_fusion/Conv_7/Sigmoid\",\n",
        "    \"feature_fusion/concat_3\"]\n",
        "\n",
        "#Loading Pretrained East Detector\n",
        "\n",
        "net = cv2.dnn.readNet('/frozen_east_text_detection.pb') #Location Of frozen_east.db file\n",
        "\n",
        "# construct a blob from the image and then perform a forward pass of\n",
        "# the model to obtain the two output layer sets\n",
        "\n",
        "blob = cv2.dnn.blobFromImage(image, 1.0, (W, H),\n",
        "                             (123.68, 116.78, 103.94), swapRB=True, crop=False)\n",
        "start = time.time()\n",
        "net.setInput(blob)\n",
        "(scores, geometry) = net.forward(layerNames)\n",
        "end = time.time()\n",
        "\n",
        "(numRows, numCols) = scores.shape[2:4]\n",
        "rects = []\n",
        "confidences = []\n",
        "\n",
        "for y in range(0, numRows):\n",
        "    # extract the scores (probabilities), followed by the geometrical\n",
        "    # data used to derive potential bounding box coordinates that\n",
        "    # surround text\n",
        "    scoresData = scores[0, 0, y]\n",
        "    xData0 = geometry[0, 0, y]\n",
        "    xData1 = geometry[0, 1, y]\n",
        "    xData2 = geometry[0, 2, y]\n",
        "    xData3 = geometry[0, 3, y]\n",
        "    anglesData = geometry[0, 4, y]\n",
        "\n",
        "    # loop over the number of columns\n",
        "    for x in range(0, numCols):\n",
        "        # if our score does not have sufficient probability, ignore it\n",
        "        if scoresData[x] < 0.5 :\n",
        "            continue\n",
        "\n",
        "        # compute the offset factor as our resulting feature maps will\n",
        "        # be 4x smaller than the input image\n",
        "        (offsetX, offsetY) = (x * 4.0, y * 4.0)\n",
        "\n",
        "        # extract the rotation angle for the prediction and then\n",
        "        # compute the sin and cosine\n",
        "        angle = anglesData[x]\n",
        "        cos = np.cos(angle)\n",
        "        sin = np.sin(angle)\n",
        "\n",
        "        # use the geometry volume to derive the width and height of\n",
        "        # the bounding box\n",
        "        h = xData0[x] + xData2[x]\n",
        "        w = xData1[x] + xData3[x]\n",
        "\n",
        "        # compute both the starting and ending (x, y)-coordinates for\n",
        "        # the text prediction bounding box\n",
        "        endX = int(offsetX + (cos * xData1[x]) + (sin * xData2[x]))\n",
        "        endY = int(offsetY - (sin * xData1[x]) + (cos * xData2[x]))\n",
        "        startX = int(endX - w)\n",
        "        startY = int(endY - h)\n",
        "  # add the bounding box coordinates and probability score to\n",
        "        # our respective lists\n",
        "        rects.append((startX, startY, endX, endY))\n",
        "        confidences.append(scoresData[x])\n",
        "\n",
        "#apply non-maxima suppression to suppress weak, overlapping bounding  boxes\n",
        "boxes = non_max_suppression(np.array(rects), probs=confidences)\n",
        "\n",
        "for (startX, startY, endX, endY) in boxes:\n",
        "    # scale the bounding box coordinates based on the respective\n",
        "    # ratios\n",
        "    startX = int(startX * rW)\n",
        "    startY = int(startY * rH)\n",
        "    endX = int(endX * rW)\n",
        "    endY = int(endY * rH)\n",
        "\n",
        "    # draw the bounding box on the image\n",
        "    cv2.rectangle(orig, (startX, startY), (endX, endY), (0, 255, 0), 2)\n",
        "\n",
        "cv2_imshow(orig)\n",
        "cv2.waitKey(0)"
      ],
      "execution_count": 93,
      "outputs": [
        {
          "output_type": "display_data",
          "data": {
            "image/png": "[encoded data removed]",
            "text/plain": [
              "<PIL.Image.Image image mode=RGB size=512x281 at 0x7F1656444F28>"
            ]
          },
          "metadata": {
            "tags": []
          }
        },
        {
          "output_type": "execute_result",
          "data": {
            "text/plain": [
              "-1"
            ]
          },
          "metadata": {
            "tags": []
          },
          "execution_count": 93
        }
      ]
    },
    {
      "cell_type": "code",
      "metadata": {
        "id": "u59g31hdJCfF",
        "colab_type": "code",
        "colab": {
          "base_uri": "https://localhost:8080/",
          "height": 315
        },
        "outputId": "3312e46c-90f0-47db-8f08-97afdf90b323"
      },
      "source": [
        "\n",
        "\n",
        "import pytesseract\n",
        "import matplotlib.pyplot as plt\n",
        "\n",
        "# initialize the list of results\n",
        "results = []\n",
        "\n",
        "# loop over the bounding boxes to find the coordinate of bounding boxes\n",
        "for (startX, startY, endX, endY) in boxes:\n",
        "\t# scale the coordinates based on the respective ratios in order to reflect bounding box on the original image\n",
        "\tstartX = int(startX * rW)\n",
        "\tstartY = int(startY * rH)\n",
        "\tendX = int(endX * rW)\n",
        "\tendY = int(endY * rH)\n",
        "\n",
        "\t#extract the region of interest\n",
        "\tr = orig[startY:endY, startX:endX]\n",
        "\n",
        "\t#configuration setting to convert image to string.  \n",
        "\tconfiguration = (\"-l eng --oem 1 --psm 8\")\n",
        "    ##This will recognize the text from the image of bounding box\n",
        "\ttext = pytesseract.image_to_string(r, config=configuration)\n",
        "\n",
        "\t# append bbox coordinate and associated text to the list of results \n",
        "\tresults.append(((startX, startY, endX, endY), text))\n",
        "\n",
        "#Display the image with bounding box and recognized text\n",
        "orig_image = orig.copy()\n",
        "\n",
        "# Moving over the results and display on the image\n",
        "for ((start_X, start_Y, end_X, end_Y), text) in results:\n",
        "\t# display the text detected by Tesseract\n",
        "\tprint(\"{}\\n\".format(text))\n",
        "\n",
        "\t# Displaying text\n",
        "\ttext = \"\".join([x if ord(x) < 128 else \"\" for x in text]).strip()\n",
        "\tcv2.rectangle(orig_image, (start_X, start_Y), (end_X, end_Y),\n",
        "\t\t(0, 0, 255), 2)\n",
        "\tcv2.putText(orig_image, text, (start_X, start_Y - 30),\n",
        "\t\tcv2.FONT_HERSHEY_SIMPLEX, 0.7,(0,0, 255), 2)\n",
        "\n",
        "plt.imshow(orig_image)\n",
        "plt.title('Output')\n",
        "plt.show()\n",
        "\n"
      ],
      "execution_count": 90,
      "outputs": [
        {
          "output_type": "stream",
          "text": [
            "Comino\n",
            "\n",
            "Soon\n",
            "\n"
          ],
          "name": "stdout"
        },
        {
          "output_type": "display_data",
          "data": {
            "image/png": "[encoded data removed]",
            "text/plain": [
              "<Figure size 432x288 with 1 Axes>"
            ]
          },
          "metadata": {
            "tags": [],
            "needs_background": "light"
          }
        }
      ]
    }
  ]
}